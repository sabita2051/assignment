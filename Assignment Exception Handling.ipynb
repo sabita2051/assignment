{
 "cells": [
  {
   "cell_type": "markdown",
   "metadata": {},
   "source": [
    "1. Write a function to compute 5/0 and use try/except to catch the exceptions."
   ]
  },
  {
   "cell_type": "code",
   "execution_count": 1,
   "metadata": {},
   "outputs": [
    {
     "name": "stdout",
     "output_type": "stream",
     "text": [
      "num =5\n",
      "Incorrect! You are dividing by zero \n"
     ]
    }
   ],
   "source": [
    "def divide(num):\n",
    "    num = int(input(\"num =\"))\n",
    "    try:\n",
    "        num/0\n",
    "        \n",
    "    except:\n",
    "        print(\"Incorrect! You are dividing by zero \") \n",
    "        \n",
    "divide('num')      "
   ]
  },
  {
   "cell_type": "markdown",
   "metadata": {},
   "source": [
    "2. Implement a Python program to generate all sentences where subject is in\n",
    "[\"Americans\", \"Indians\"] and verb is in [\"Play\", \"watch\"] and the object is in\n",
    "[\"Baseball\",\"cricket\"].\n",
    "\n",
    "### Hint: Subject,Verb and Object should be declared in the program as shown below.\n",
    "\n",
    "* subjects=[\"Americans \",\"Indians\"]\n",
    "\n",
    "* verbs=[\"play\",\"watch\"]\n",
    "\n",
    "* objects=[\"Baseball\",\"Cricket\"]\n",
    "\n",
    "### Output should come as below:\n",
    "\n",
    "* Americans play Baseball.\n",
    "\n",
    "* Americans play Cricket.\n",
    "\n",
    "* Americans watch Baseball.\n",
    "\n",
    "* Americans watch Cricket.\n",
    "\n",
    "* Indians play Baseball.\n",
    "\n",
    "* Indians play Cricket.\n",
    "\n",
    "* Indians watch Baseball.\n",
    "\n",
    "* Indians watch Cricket.\n",
    "\n"
   ]
  },
  {
   "cell_type": "code",
   "execution_count": 2,
   "metadata": {},
   "outputs": [
    {
     "name": "stdout",
     "output_type": "stream",
     "text": [
      "Americans play Baseball\n",
      "Americans play Cricket\n",
      "Americans watch Baseball\n",
      "Americans watch Cricket\n",
      "Indians play Baseball\n",
      "Indians play Cricket\n",
      "Indians watch Baseball\n",
      "Indians watch Cricket\n"
     ]
    }
   ],
   "source": [
    "Subject = [\"Americans\", \"Indians\"]\n",
    "Verb = [\"play\", \"watch\"]\n",
    "Object = [\"Baseball\", \"Cricket\"]\n",
    "\n",
    "Sentence = [(sub +\" \"+ ver +\" \" + obj) for sub in Subject for ver in Verb for obj in Object]\n",
    "\n",
    "for sentence in Sentence:\n",
    "     print(sentence)\n",
    "\n",
    "        \n",
    "        "
   ]
  },
  {
   "cell_type": "code",
   "execution_count": null,
   "metadata": {},
   "outputs": [],
   "source": []
  }
 ],
 "metadata": {
  "kernelspec": {
   "display_name": "Python 3",
   "language": "python",
   "name": "python3"
  },
  "language_info": {
   "codemirror_mode": {
    "name": "ipython",
    "version": 3
   },
   "file_extension": ".py",
   "mimetype": "text/x-python",
   "name": "python",
   "nbconvert_exporter": "python",
   "pygments_lexer": "ipython3",
   "version": "3.7.6"
  }
 },
 "nbformat": 4,
 "nbformat_minor": 4
}
