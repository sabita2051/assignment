{
 "cells": [
  {
   "cell_type": "markdown",
   "metadata": {},
   "source": [
    "1.1 Write a Python Program(with class concepts) to find the area of the triangle using the below\n",
    "formula.\n",
    "area = (s*(s-a)*(s-b)*(s-c)) ** 0.5\n",
    "Function to take the length of the sides of triangle from user should be defined in the parent\n",
    "class and function to calculate the area should be defined in subclass.\n"
   ]
  },
  {
   "cell_type": "code",
   "execution_count": 1,
   "metadata": {},
   "outputs": [
    {
     "name": "stdout",
     "output_type": "stream",
     "text": [
      "Enter the first side of the triangle : 10\n",
      "Enter the second side of the triangle : 13\n",
      "Enter the third side of the triangle : 17\n",
      "Area of a traingle: 64.8074069840786\n"
     ]
    }
   ],
   "source": [
    "\n",
    "class Triangle():\n",
    "    def __init__(self, a,b,c):\n",
    "        self.a =float(a) \n",
    "        self.b = float(b)\n",
    "        self.c = float(c)\n",
    "a = int(input(\"Enter the first side of the triangle : \"))\n",
    "b = int(input(\"Enter the second side of the triangle : \"))\n",
    "c = int(input(\"Enter the third side of the triangle : \"))\n",
    "      \n",
    "        \n",
    "class Area(Triangle):\n",
    "    def __init__(self, a,b,c):\n",
    "        super().__init__(a,b,c)\n",
    "        \n",
    "    def get_area(self):\n",
    "        s = (a + b + c) / 2\n",
    "        return (s*(s-a)*(s-b)*(s-c)) ** 0.5  \n",
    "data = Area(a,b,c)\n",
    "print(\"Area of a traingle: {}\".format(data.get_area()))"
   ]
  },
  {
   "cell_type": "markdown",
   "metadata": {},
   "source": [
    "1.2 Write a function filter_long_words() that takes a list of words and an integer n and returns\n",
    "the list of words that are longer than n."
   ]
  },
  {
   "cell_type": "code",
   "execution_count": 2,
   "metadata": {},
   "outputs": [
    {
     "name": "stdout",
     "output_type": "stream",
     "text": [
      "Please input number: 7\n",
      "['Learning', 'MachineLearning', 'Patience']\n"
     ]
    }
   ],
   "source": [
    "def filter_long_words(inputList,inputInteger):\n",
    " \n",
    "    listOfWords = []\n",
    " \n",
    "    for i in range(len(inputList)):\n",
    "        if len(inputList[i]) > inputInteger:\n",
    "            listOfWords.append(inputList[i])\n",
    " \n",
    "    return listOfWords\n",
    " \n",
    "inputListOfWords = ['Start','Learning','Python','MachineLearning','Patience']\n",
    "\n",
    "inputWordLength = int(input(\"Please input number: \"))\n",
    " \n",
    "print (str(filter_long_words(inputListOfWords,inputWordLength)))"
   ]
  },
  {
   "cell_type": "markdown",
   "metadata": {},
   "source": [
    "2.1 Write a Python program using function concept that maps list of words into a list of integers\n",
    "representing the lengths of the corresponding words.\n",
    "\n",
    "* Hint: If a list [ ab,cde,erty] is passed on to the python function output should come as [2,3,4]\n",
    "\n",
    " Here 2,3 and 4 are the lengths of the words in the list."
   ]
  },
  {
   "cell_type": "code",
   "execution_count": 3,
   "metadata": {},
   "outputs": [
    {
     "name": "stdout",
     "output_type": "stream",
     "text": [
      "[7, 8, 10, 12, 2]\n"
     ]
    }
   ],
   "source": [
    "listOfWords = ['Machine','Learning','Artificial','Intelligence','DS']\n",
    "\n",
    "def wordlength(list):\n",
    "    lengthOfWords = []\n",
    "    for i in list:\n",
    "        lengthOfWords.append(len(i))\n",
    "    return lengthOfWords\n",
    "\n",
    "print(wordlength(listOfWords))\n",
    "        \n",
    "    "
   ]
  },
  {
   "cell_type": "markdown",
   "metadata": {},
   "source": [
    "2.2 Write a Python function which takes a character (i.e. a string of length 1) and returns True if\n",
    "it is a vowel, False otherwise."
   ]
  },
  {
   "cell_type": "code",
   "execution_count": 4,
   "metadata": {},
   "outputs": [
    {
     "name": "stdout",
     "output_type": "stream",
     "text": [
      "Enter a character: a\n",
      "a is a vowel\n"
     ]
    }
   ],
   "source": [
    "char = input(\"Enter a character: \")\n",
    "\n",
    "def check_vowel(char):\n",
    "    if(char == 'a' or char =='e' or char == 'i' or char == 'o' or char == 'u'):\n",
    "        return True\n",
    "    else:\n",
    "        return False\n",
    "\n",
    "if (check_vowel(char)):\n",
    "    print(char, \"is a vowel\")\n",
    "else:\n",
    "    print(char, \"is not a vowel\")\n"
   ]
  },
  {
   "cell_type": "code",
   "execution_count": null,
   "metadata": {},
   "outputs": [],
   "source": []
  }
 ],
 "metadata": {
  "kernelspec": {
   "display_name": "Python 3",
   "language": "python",
   "name": "python3"
  },
  "language_info": {
   "codemirror_mode": {
    "name": "ipython",
    "version": 3
   },
   "file_extension": ".py",
   "mimetype": "text/x-python",
   "name": "python",
   "nbconvert_exporter": "python",
   "pygments_lexer": "ipython3",
   "version": "3.7.6"
  }
 },
 "nbformat": 4,
 "nbformat_minor": 4
}
